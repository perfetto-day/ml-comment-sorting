{
 "cells": [
  {
   "cell_type": "markdown",
   "id": "669064c7-03d5-421b-9032-9d0a61c8dcc3",
   "metadata": {},
   "source": [
    "# Скачивание данных"
   ]
  },
  {
   "cell_type": "code",
   "execution_count": 40,
   "id": "6dc325a8-e3d2-47c0-8a35-cba307f72540",
   "metadata": {
    "tags": []
   },
   "outputs": [
    {
     "name": "stdout",
     "output_type": "stream",
     "text": [
      "Collecting jsonlines\n",
      "  Downloading jsonlines-3.1.0-py3-none-any.whl (8.6 kB)\n",
      "Requirement already satisfied: attrs>=19.2.0 in c:\\users\\user\\appdata\\local\\programs\\python\\python311\\lib\\site-packages (from jsonlines) (23.1.0)\n",
      "Installing collected packages: jsonlines\n",
      "Successfully installed jsonlines-3.1.0\n"
     ]
    },
    {
     "name": "stderr",
     "output_type": "stream",
     "text": [
      "\n",
      "[notice] A new release of pip available: 22.3.1 -> 23.1.2\n",
      "[notice] To update, run: python.exe -m pip install --upgrade pip\n"
     ]
    }
   ],
   "source": [
    "# !pip install jsonlines"
   ]
  },
  {
   "cell_type": "code",
   "execution_count": 91,
   "id": "22196d03-7abb-4d9c-8a0e-481e71cc54a3",
   "metadata": {
    "tags": []
   },
   "outputs": [],
   "source": [
    "import jsonlines\n",
    "import pandas as pd\n",
    "import numpy as np"
   ]
  },
  {
   "cell_type": "code",
   "execution_count": 276,
   "id": "a5efd932-99b6-4860-a24c-06bbc94f9ddb",
   "metadata": {
    "tags": []
   },
   "outputs": [],
   "source": [
    "text = []\n",
    "with jsonlines.open(r\"Data\\ranking_train.jsonl\", 'r') as reader:\n",
    "    for obj in  reader:\n",
    "        text.append(obj)"
   ]
  },
  {
   "cell_type": "code",
   "execution_count": 210,
   "id": "eba2fcc1-16be-466e-8154-9b86279b7366",
   "metadata": {
    "tags": []
   },
   "outputs": [
    {
     "data": {
      "text/plain": [
       "88107"
      ]
     },
     "execution_count": 210,
     "metadata": {},
     "output_type": "execute_result"
    }
   ],
   "source": [
    "'''Формат данных следующий... Сначала по ключу 'text' выдаёт тело поста; по ключу 'comments' получаем список, состоящий из словарей следующего вида - по ключу 'text' выдаёт \n",
    "тело комментария, а по ключу 'score' получаем оценку от 0 до 4'''\n",
    "len(text) "
   ]
  },
  {
   "cell_type": "code",
   "execution_count": 211,
   "id": "f5813d90-6bf0-4023-af10-25a2e781d278",
   "metadata": {
    "tags": []
   },
   "outputs": [
    {
     "name": "stdout",
     "output_type": "stream",
     "text": [
      "Пример вызова тела поста: How many summer Y Combinator fundees decided not to continue with their startup and go back to school? and what were the reasons?\n"
     ]
    }
   ],
   "source": [
    "print('Пример вызова тела поста: {}'.format(text[0]['text']) )"
   ]
  },
  {
   "cell_type": "code",
   "execution_count": 192,
   "id": "eaa946d1-6994-4d50-82b7-06243da65ddd",
   "metadata": {
    "tags": []
   },
   "outputs": [
    {
     "data": {
      "text/plain": [
       "{'text': 'How many summer Y Combinator fundees decided not to continue with their startup and go back to school? and what were the reasons?',\n",
       " 'comments': [{'text': 'Going back to school is not identical with giving up. Some founders go back to school and keep working on the startup while there.  However, those do so much worse than the people who work on the startup full-time that going back to school seems, in practice, not too far removed from a death sentence for a startup.Off the top of my head, I\\'d guess we\\'ve had about 8 startups where the founders went back to school.  It doesn\\'t only happen with summer batches.  Founders from winter batches do it too.Usually the reason is that the startup isn\\'t doing very well. However, that judgement depends a lot on how determined the founders are.  One reason we now shy away from funding people still in school is that they often unconsciously want the startup to fail, because the idea of dropping out frightens them.A lot of startups look bad after 3 months.  Someone who\\'s out of school and has to make it work or get a job in a cubicle will say \"don\\'t worry, we\\'ll figure out how to make it successful.\"',\n",
       "   'score': 0},\n",
       "  {'text': \"There will invariably be those who don't see the success they set out for, and they fall back to their original path. That's why a founder's commitment is so critical. When your one plan is to become a startup founder, regardless of school or any other factors, you will do your damndest to make something of value and succeed. It's part _doing_ it better than the next guy and _wanting_ it more than the next guy.\",\n",
       "   'score': 1},\n",
       "  {'text': 'For me school is a way to be connected to what is going on in the \"real world\". I entered school thinking it is EITHER school or entrepreneurship. But in last year my views have changed. I really think there is a middle path where you do JUST enough to stay in school all the while trying out new ventures. (May be the Steve Jobs route?)School is an awesome platform to launch your site off and get quick feedback - ESPECIALLY if your venture fits in with the social networking ecosystem.',\n",
       "   'score': 2},\n",
       "  {'text': \"I guess it really depends on how hungry you are and how much you believe in your product. I'm only 24 and still in school as of the moment, yet I'm more than willing to leave school in order to initiate my start up. Come to think of it, I'm willing to travel half the world just to get advice and connections from YC. \",\n",
       "   'score': 3},\n",
       "  {'text': 'I know pollground decided to go back to school after getting y combinator funding',\n",
       "   'score': 4}]}"
      ]
     },
     "execution_count": 192,
     "metadata": {},
     "output_type": "execute_result"
    }
   ],
   "source": [
    "text[0]"
   ]
  },
  {
   "cell_type": "code",
   "execution_count": 121,
   "id": "a6056722-1bc6-42a1-9fa2-9d849fc5b0e2",
   "metadata": {
    "tags": []
   },
   "outputs": [
    {
     "name": "stdout",
     "output_type": "stream",
     "text": [
      "Пример вызова тела комментариев: [{'text': 'Going back to school is not identical with giving up. Some founders go back to school and keep working on the startup while there.  However, those do so much worse than the people who work on the startup full-time that going back to school seems, in practice, not too far removed from a death sentence for a startup.Off the top of my head, I\\'d guess we\\'ve had about 8 startups where the founders went back to school.  It doesn\\'t only happen with summer batches.  Founders from winter batches do it too.Usually the reason is that the startup isn\\'t doing very well. However, that judgement depends a lot on how determined the founders are.  One reason we now shy away from funding people still in school is that they often unconsciously want the startup to fail, because the idea of dropping out frightens them.A lot of startups look bad after 3 months.  Someone who\\'s out of school and has to make it work or get a job in a cubicle will say \"don\\'t worry, we\\'ll figure out how to make it successful.\"', 'score': 0}, {'text': \"There will invariably be those who don't see the success they set out for, and they fall back to their original path. That's why a founder's commitment is so critical. When your one plan is to become a startup founder, regardless of school or any other factors, you will do your damndest to make something of value and succeed. It's part _doing_ it better than the next guy and _wanting_ it more than the next guy.\", 'score': 1}, {'text': 'For me school is a way to be connected to what is going on in the \"real world\". I entered school thinking it is EITHER school or entrepreneurship. But in last year my views have changed. I really think there is a middle path where you do JUST enough to stay in school all the while trying out new ventures. (May be the Steve Jobs route?)School is an awesome platform to launch your site off and get quick feedback - ESPECIALLY if your venture fits in with the social networking ecosystem.', 'score': 2}, {'text': \"I guess it really depends on how hungry you are and how much you believe in your product. I'm only 24 and still in school as of the moment, yet I'm more than willing to leave school in order to initiate my start up. Come to think of it, I'm willing to travel half the world just to get advice and connections from YC. \", 'score': 3}, {'text': 'I know pollground decided to go back to school after getting y combinator funding', 'score': 4}]\n"
     ]
    }
   ],
   "source": [
    "print('Пример вызова тела комментариев: {}'.format(text[0]['comments']) )"
   ]
  },
  {
   "cell_type": "code",
   "execution_count": 331,
   "id": "dbfca130-51b9-4baa-8b4d-4bf142ca3037",
   "metadata": {},
   "outputs": [],
   "source": [
    "pd_data = pd.DataFrame(columns = ['post', 'comment', 'score'])\n",
    "i=0\n",
    "batch_size = 32\n",
    "def bach_generator(batch_size, text):\n",
    "    i=0\n",
    "    batch_idx = np.random.random_integers(0, len(text), batch_size)\n",
    "    \n",
    "    data = np.array(text)[[batch_idx]][0]\n",
    "    \n",
    "    for body in data:\n",
    "        for comment in body['comments']:\n",
    "            pd_data.loc[i] = [body['text'].lower(), comment['text'].lower(), comment['score']]\n",
    "            i+=1\n",
    "    return pd_data\n",
    "\n",
    "    "
   ]
  },
  {
   "cell_type": "code",
   "execution_count": 333,
   "id": "4a15728b-4532-480e-b714-353a37deddd7",
   "metadata": {
    "tags": []
   },
   "outputs": [
    {
     "name": "stderr",
     "output_type": "stream",
     "text": [
      "C:\\Users\\User\\AppData\\Local\\Temp\\ipykernel_10104\\457461032.py:6: DeprecationWarning: This function is deprecated. Please call randint(0, 88107 + 1) instead\n",
      "  batch_idx = np.random.random_integers(0, len(text), batch_size)\n"
     ]
    },
    {
     "data": {
      "text/html": [
       "<div>\n",
       "<style scoped>\n",
       "    .dataframe tbody tr th:only-of-type {\n",
       "        vertical-align: middle;\n",
       "    }\n",
       "\n",
       "    .dataframe tbody tr th {\n",
       "        vertical-align: top;\n",
       "    }\n",
       "\n",
       "    .dataframe thead th {\n",
       "        text-align: right;\n",
       "    }\n",
       "</style>\n",
       "<table border=\"1\" class=\"dataframe\">\n",
       "  <thead>\n",
       "    <tr style=\"text-align: right;\">\n",
       "      <th></th>\n",
       "      <th>post</th>\n",
       "      <th>comment</th>\n",
       "      <th>score</th>\n",
       "    </tr>\n",
       "  </thead>\n",
       "  <tbody>\n",
       "    <tr>\n",
       "      <th>0</th>\n",
       "      <td>how to find hackers for only stock options?</td>\n",
       "      <td>from first principles, actively looking for su...</td>\n",
       "      <td>0</td>\n",
       "    </tr>\n",
       "    <tr>\n",
       "      <th>1</th>\n",
       "      <td>how to find hackers for only stock options?</td>\n",
       "      <td>i meet half of my current core team, buy not b...</td>\n",
       "      <td>1</td>\n",
       "    </tr>\n",
       "    <tr>\n",
       "      <th>2</th>\n",
       "      <td>how to find hackers for only stock options?</td>\n",
       "      <td>i had that same question 4-5 years ago when i ...</td>\n",
       "      <td>2</td>\n",
       "    </tr>\n",
       "    <tr>\n",
       "      <th>3</th>\n",
       "      <td>how to find hackers for only stock options?</td>\n",
       "      <td>someone who doesn't take a salary for six mont...</td>\n",
       "      <td>3</td>\n",
       "    </tr>\n",
       "    <tr>\n",
       "      <th>4</th>\n",
       "      <td>how to find hackers for only stock options?</td>\n",
       "      <td>i was a person you are looking for. two years ...</td>\n",
       "      <td>4</td>\n",
       "    </tr>\n",
       "    <tr>\n",
       "      <th>...</th>\n",
       "      <td>...</td>\n",
       "      <td>...</td>\n",
       "      <td>...</td>\n",
       "    </tr>\n",
       "    <tr>\n",
       "      <th>155</th>\n",
       "      <td>netherlands to tax drivers by the kilometer</td>\n",
       "      <td>the dutch government is batting 10 for 10 when...</td>\n",
       "      <td>0</td>\n",
       "    </tr>\n",
       "    <tr>\n",
       "      <th>156</th>\n",
       "      <td>netherlands to tax drivers by the kilometer</td>\n",
       "      <td>doesn't the gasoline tax we pay in the us acco...</td>\n",
       "      <td>1</td>\n",
       "    </tr>\n",
       "    <tr>\n",
       "      <th>157</th>\n",
       "      <td>netherlands to tax drivers by the kilometer</td>\n",
       "      <td>apart from hating the big brother aspects of t...</td>\n",
       "      <td>2</td>\n",
       "    </tr>\n",
       "    <tr>\n",
       "      <th>158</th>\n",
       "      <td>netherlands to tax drivers by the kilometer</td>\n",
       "      <td>it's a stupid approach and it will never see t...</td>\n",
       "      <td>3</td>\n",
       "    </tr>\n",
       "    <tr>\n",
       "      <th>159</th>\n",
       "      <td>netherlands to tax drivers by the kilometer</td>\n",
       "      <td>i live in amsterdam. the public transportation...</td>\n",
       "      <td>4</td>\n",
       "    </tr>\n",
       "  </tbody>\n",
       "</table>\n",
       "<p>160 rows × 3 columns</p>\n",
       "</div>"
      ],
      "text/plain": [
       "                                            post   \n",
       "0    how to find hackers for only stock options?  \\\n",
       "1    how to find hackers for only stock options?   \n",
       "2    how to find hackers for only stock options?   \n",
       "3    how to find hackers for only stock options?   \n",
       "4    how to find hackers for only stock options?   \n",
       "..                                           ...   \n",
       "155  netherlands to tax drivers by the kilometer   \n",
       "156  netherlands to tax drivers by the kilometer   \n",
       "157  netherlands to tax drivers by the kilometer   \n",
       "158  netherlands to tax drivers by the kilometer   \n",
       "159  netherlands to tax drivers by the kilometer   \n",
       "\n",
       "                                               comment  score  \n",
       "0    from first principles, actively looking for su...      0  \n",
       "1    i meet half of my current core team, buy not b...      1  \n",
       "2    i had that same question 4-5 years ago when i ...      2  \n",
       "3    someone who doesn't take a salary for six mont...      3  \n",
       "4    i was a person you are looking for. two years ...      4  \n",
       "..                                                 ...    ...  \n",
       "155  the dutch government is batting 10 for 10 when...      0  \n",
       "156  doesn't the gasoline tax we pay in the us acco...      1  \n",
       "157  apart from hating the big brother aspects of t...      2  \n",
       "158  it's a stupid approach and it will never see t...      3  \n",
       "159  i live in amsterdam. the public transportation...      4  \n",
       "\n",
       "[160 rows x 3 columns]"
      ]
     },
     "execution_count": 333,
     "metadata": {},
     "output_type": "execute_result"
    }
   ],
   "source": [
    "bach_generator(batch_size, text)"
   ]
  },
  {
   "cell_type": "code",
   "execution_count": 251,
   "id": "6f1585d2-936a-4c0e-8552-e06a113a7b27",
   "metadata": {
    "tags": []
   },
   "outputs": [
    {
     "data": {
      "text/plain": [
       "'Перегонка датафрейма в CSV. Этот файл уже висит в репо'"
      ]
     },
     "execution_count": 251,
     "metadata": {},
     "output_type": "execute_result"
    }
   ],
   "source": [
    "'''Перегонка датафрейма в CSV. Этот файл уже висит в репо'''\n",
    "# pd_data.to_csv (r'my_data.csv', index= False )"
   ]
  },
  {
   "cell_type": "markdown",
   "id": "d6307d66-4b7a-4092-b54b-b5d933b7cdc9",
   "metadata": {},
   "source": [
    "# Preprocessing"
   ]
  },
  {
   "cell_type": "code",
   "execution_count": 361,
   "id": "c467ea5d-cac0-4933-9757-5a4ef4d7f88f",
   "metadata": {
    "tags": []
   },
   "outputs": [
    {
     "name": "stderr",
     "output_type": "stream",
     "text": [
      "[nltk_data] Downloading package stopwords to\n",
      "[nltk_data]     C:\\Users\\User\\AppData\\Roaming\\nltk_data...\n",
      "[nltk_data]   Package stopwords is already up-to-date!\n",
      "[nltk_data] Downloading package punkt to\n",
      "[nltk_data]     C:\\Users\\User\\AppData\\Roaming\\nltk_data...\n",
      "[nltk_data]   Package punkt is already up-to-date!\n"
     ]
    }
   ],
   "source": [
    "import string\n",
    "from nltk.tokenize import word_tokenize\n",
    "from nltk.stem import PorterStemmer\n",
    "import nltk\n",
    "from nltk.corpus import stopwords\n",
    "nltk.download('stopwords')\n",
    "nltk.download('punkt')\n",
    "from functools import reduce"
   ]
  },
  {
   "cell_type": "code",
   "execution_count": 392,
   "id": "8a1f1823-7580-4a87-a863-e53bf92b3c5c",
   "metadata": {
    "tags": []
   },
   "outputs": [
    {
     "name": "stderr",
     "output_type": "stream",
     "text": [
      "C:\\Users\\User\\AppData\\Local\\Temp\\ipykernel_10104\\1020212156.py:8: DeprecationWarning: This function is deprecated. Please call randint(0, 88107 + 1) instead\n",
      "  batch_idx = np.random.random_integers(0, len(text), batch_size)\n"
     ]
    }
   ],
   "source": [
    "stop_w =stopwords.words(\"english\")\n",
    "ps = PorterStemmer()\n",
    "pd_data_sent = pd.DataFrame(columns = ['post', 'comment', 'score'])\n",
    "pd_data_int = pd.DataFrame(columns = ['post', 'comment', 'score'])\n",
    "dictionary = []\n",
    "i=0\n",
    "batch_size = 32\n",
    "\n",
    "def bach_generator(batch_size, text):\n",
    "    i=0\n",
    "    batch_idx = np.random.random_integers(0, len(text), batch_size)\n",
    "    \n",
    "    data = np.array(text)[[batch_idx]][0]\n",
    "    \n",
    "    for body in data:\n",
    "        for comment in body['comments']:\n",
    "            post_text = body['text'].translate(str.maketrans(\"\", \"\", string.punctuation))\n",
    "            post_tokens = word_tokenize(post_text)\n",
    "            \n",
    "            comment_text = comment['text'].translate(str.maketrans(\"\", \"\", string.punctuation))\n",
    "            comment_tokens = word_tokenize(comment_text)\n",
    "            \n",
    "            \n",
    "            stemmed_post = [ps.stem(x) if x not in stop_w else '' for x in post_tokens ]\n",
    "            stemmed_coment = [ps.stem(x) if x not in stop_w else '' for x in comment_tokens ]\n",
    "            \n",
    "            pd_data_sent.loc[i] = [' '.join(stemmed_post), ' '.join(stemmed_coment), comment['score']]\n",
    "            pd_data_sent.loc[i] = [' '.join(stemmed_post), ' '.join(stemmed_coment), comment['score']]\n",
    "            i+=1\n",
    "            \n",
    "    return pd_data\n",
    "\n",
    "data = bach_generator(batch_size, text)\n"
   ]
  },
  {
   "cell_type": "code",
   "execution_count": 393,
   "id": "9162906a-0be1-4fe6-8b67-5e51f0644534",
   "metadata": {
    "tags": []
   },
   "outputs": [
    {
     "data": {
      "text/html": [
       "<div>\n",
       "<style scoped>\n",
       "    .dataframe tbody tr th:only-of-type {\n",
       "        vertical-align: middle;\n",
       "    }\n",
       "\n",
       "    .dataframe tbody tr th {\n",
       "        vertical-align: top;\n",
       "    }\n",
       "\n",
       "    .dataframe thead th {\n",
       "        text-align: right;\n",
       "    }\n",
       "</style>\n",
       "<table border=\"1\" class=\"dataframe\">\n",
       "  <thead>\n",
       "    <tr style=\"text-align: right;\">\n",
       "      <th></th>\n",
       "      <th>post</th>\n",
       "      <th>comment</th>\n",
       "      <th>score</th>\n",
       "    </tr>\n",
       "  </thead>\n",
       "  <tbody>\n",
       "    <tr>\n",
       "      <th>0</th>\n",
       "      <td>how the hell is thi my fault</td>\n",
       "      <td>i cant believ im defend arrington     i think ...</td>\n",
       "      <td>0</td>\n",
       "    </tr>\n",
       "    <tr>\n",
       "      <th>1</th>\n",
       "      <td>how the hell is thi my fault</td>\n",
       "      <td>everybodi calm  pleaseej  real she  real perso...</td>\n",
       "      <td>1</td>\n",
       "    </tr>\n",
       "    <tr>\n",
       "      <th>2</th>\n",
       "      <td>how the hell is thi my fault</td>\n",
       "      <td>you know i   cheerlead  michael arrington weve...</td>\n",
       "      <td>2</td>\n",
       "    </tr>\n",
       "    <tr>\n",
       "      <th>3</th>\n",
       "      <td>how the hell is thi my fault</td>\n",
       "      <td>hn   pretti disgust  last  day  level  schaden...</td>\n",
       "      <td>3</td>\n",
       "    </tr>\n",
       "    <tr>\n",
       "      <th>4</th>\n",
       "      <td>how the hell is thi my fault</td>\n",
       "      <td>sorri pg     steep hill  climb   want  defend ...</td>\n",
       "      <td>4</td>\n",
       "    </tr>\n",
       "    <tr>\n",
       "      <th>...</th>\n",
       "      <td>...</td>\n",
       "      <td>...</td>\n",
       "      <td>...</td>\n",
       "    </tr>\n",
       "    <tr>\n",
       "      <th>155</th>\n",
       "      <td>john carmack quakecon 2013 keynot livestream</td>\n",
       "      <td>quotkinect  sort  like  zerobutton mous   lot ...</td>\n",
       "      <td>0</td>\n",
       "    </tr>\n",
       "    <tr>\n",
       "      <th>156</th>\n",
       "      <td>john carmack quakecon 2013 keynot livestream</td>\n",
       "      <td>john carmack talk  length  haskel   keynot def...</td>\n",
       "      <td>1</td>\n",
       "    </tr>\n",
       "    <tr>\n",
       "      <th>157</th>\n",
       "      <td>john carmack quakecon 2013 keynot livestream</td>\n",
       "      <td>he talk  length   recent year  armadillo i thi...</td>\n",
       "      <td>2</td>\n",
       "    </tr>\n",
       "    <tr>\n",
       "      <th>158</th>\n",
       "      <td>john carmack quakecon 2013 keynot livestream</td>\n",
       "      <td>you could also watch carmackx27 keynot  youtub...</td>\n",
       "      <td>3</td>\n",
       "    </tr>\n",
       "    <tr>\n",
       "      <th>159</th>\n",
       "      <td>john carmack quakecon 2013 keynot livestream</td>\n",
       "      <td>i realli enjoy  carmack speak  precis it make ...</td>\n",
       "      <td>4</td>\n",
       "    </tr>\n",
       "  </tbody>\n",
       "</table>\n",
       "<p>160 rows × 3 columns</p>\n",
       "</div>"
      ],
      "text/plain": [
       "                                             post   \n",
       "0                    how the hell is thi my fault  \\\n",
       "1                    how the hell is thi my fault   \n",
       "2                    how the hell is thi my fault   \n",
       "3                    how the hell is thi my fault   \n",
       "4                    how the hell is thi my fault   \n",
       "..                                            ...   \n",
       "155  john carmack quakecon 2013 keynot livestream   \n",
       "156  john carmack quakecon 2013 keynot livestream   \n",
       "157  john carmack quakecon 2013 keynot livestream   \n",
       "158  john carmack quakecon 2013 keynot livestream   \n",
       "159  john carmack quakecon 2013 keynot livestream   \n",
       "\n",
       "                                               comment  score  \n",
       "0    i cant believ im defend arrington     i think ...      0  \n",
       "1    everybodi calm  pleaseej  real she  real perso...      1  \n",
       "2    you know i   cheerlead  michael arrington weve...      2  \n",
       "3    hn   pretti disgust  last  day  level  schaden...      3  \n",
       "4    sorri pg     steep hill  climb   want  defend ...      4  \n",
       "..                                                 ...    ...  \n",
       "155  quotkinect  sort  like  zerobutton mous   lot ...      0  \n",
       "156  john carmack talk  length  haskel   keynot def...      1  \n",
       "157  he talk  length   recent year  armadillo i thi...      2  \n",
       "158  you could also watch carmackx27 keynot  youtub...      3  \n",
       "159  i realli enjoy  carmack speak  precis it make ...      4  \n",
       "\n",
       "[160 rows x 3 columns]"
      ]
     },
     "execution_count": 393,
     "metadata": {},
     "output_type": "execute_result"
    }
   ],
   "source": [
    "data\n"
   ]
  },
  {
   "cell_type": "code",
   "execution_count": 394,
   "id": "c87c92d6-397a-44de-a96c-f12f5cae86a2",
   "metadata": {
    "tags": []
   },
   "outputs": [],
   "source": [
    "train_target = data['score']\n",
    "train_data = data['comment']"
   ]
  },
  {
   "cell_type": "code",
   "execution_count": null,
   "id": "359f0a2d-a724-47fd-9e5b-5fcd983460e2",
   "metadata": {},
   "outputs": [],
   "source": [
    "from sklearn.naive_bayes import MultinomialNB"
   ]
  }
 ],
 "metadata": {
  "kernelspec": {
   "display_name": "Python 3 (ipykernel)",
   "language": "python",
   "name": "python3"
  },
  "language_info": {
   "codemirror_mode": {
    "name": "ipython",
    "version": 3
   },
   "file_extension": ".py",
   "mimetype": "text/x-python",
   "name": "python",
   "nbconvert_exporter": "python",
   "pygments_lexer": "ipython3",
   "version": "3.11.2"
  }
 },
 "nbformat": 4,
 "nbformat_minor": 5
}
