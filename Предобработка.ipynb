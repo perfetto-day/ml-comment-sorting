{
 "cells": [
  {
   "cell_type": "markdown",
   "id": "669064c7-03d5-421b-9032-9d0a61c8dcc3",
   "metadata": {},
   "source": [
    "# Скачивание данных"
   ]
  },
  {
   "cell_type": "code",
   "execution_count": 2,
   "id": "6dc325a8-e3d2-47c0-8a35-cba307f72540",
   "metadata": {
    "tags": []
   },
   "outputs": [
    {
     "name": "stdout",
     "output_type": "stream",
     "text": [
      "Defaulting to user installation because normal site-packages is not writeable\n",
      "Collecting jsonlines\n",
      "  Downloading jsonlines-3.1.0-py3-none-any.whl (8.6 kB)\n",
      "Requirement already satisfied: attrs>=19.2.0 in /usr/lib/python3/dist-packages (from jsonlines) (21.2.0)\n",
      "Installing collected packages: jsonlines\n",
      "Successfully installed jsonlines-3.1.0\n"
     ]
    }
   ],
   "source": [
    "!pip3 install jsonlines"
   ]
  },
  {
   "cell_type": "code",
   "execution_count": 2,
   "id": "22196d03-7abb-4d9c-8a0e-481e71cc54a3",
   "metadata": {
    "tags": []
   },
   "outputs": [],
   "source": [
    "import jsonlines\n",
    "import pandas as pd\n",
    "import numpy as np"
   ]
  },
  {
   "cell_type": "code",
   "execution_count": 32,
   "id": "a5efd932-99b6-4860-a24c-06bbc94f9ddb",
   "metadata": {
    "tags": []
   },
   "outputs": [],
   "source": [
    "text = []\n",
    "with jsonlines.open(r\"Data/ranking_train.jsonl\", 'r') as reader:\n",
    "    for obj in  reader:\n",
    "        text.append(obj)"
   ]
  },
  {
   "cell_type": "code",
   "execution_count": 33,
   "id": "eba2fcc1-16be-466e-8154-9b86279b7366",
   "metadata": {
    "tags": []
   },
   "outputs": [
    {
     "data": {
      "text/plain": [
       "88107"
      ]
     },
     "execution_count": 33,
     "metadata": {},
     "output_type": "execute_result"
    }
   ],
   "source": [
    "'''Формат данных следующий... Сначала по ключу 'text' выдаёт тело поста; по ключу 'comments' получаем список, состоящий из словарей следующего вида - по ключу 'text' выдаёт \n",
    "тело комментария, а по ключу 'score' получаем оценку от 0 до 4'''\n",
    "len(text) "
   ]
  },
  {
   "cell_type": "code",
   "execution_count": 7,
   "id": "f5813d90-6bf0-4023-af10-25a2e781d278",
   "metadata": {
    "tags": []
   },
   "outputs": [
    {
     "name": "stdout",
     "output_type": "stream",
     "text": [
      "Пример вызова тела поста: How many summer Y Combinator fundees decided not to continue with their startup and go back to school? and what were the reasons?\n"
     ]
    }
   ],
   "source": [
    "print('Пример вызова тела поста: {}'.format(text[0]['text']) )"
   ]
  },
  {
   "cell_type": "code",
   "execution_count": 8,
   "id": "eaa946d1-6994-4d50-82b7-06243da65ddd",
   "metadata": {
    "tags": []
   },
   "outputs": [
    {
     "data": {
      "text/plain": [
       "{'text': 'How many summer Y Combinator fundees decided not to continue with their startup and go back to school? and what were the reasons?',\n",
       " 'comments': [{'text': 'Going back to school is not identical with giving up. Some founders go back to school and keep working on the startup while there.  However, those do so much worse than the people who work on the startup full-time that going back to school seems, in practice, not too far removed from a death sentence for a startup.Off the top of my head, I\\'d guess we\\'ve had about 8 startups where the founders went back to school.  It doesn\\'t only happen with summer batches.  Founders from winter batches do it too.Usually the reason is that the startup isn\\'t doing very well. However, that judgement depends a lot on how determined the founders are.  One reason we now shy away from funding people still in school is that they often unconsciously want the startup to fail, because the idea of dropping out frightens them.A lot of startups look bad after 3 months.  Someone who\\'s out of school and has to make it work or get a job in a cubicle will say \"don\\'t worry, we\\'ll figure out how to make it successful.\"',\n",
       "   'score': 0},\n",
       "  {'text': \"There will invariably be those who don't see the success they set out for, and they fall back to their original path. That's why a founder's commitment is so critical. When your one plan is to become a startup founder, regardless of school or any other factors, you will do your damndest to make something of value and succeed. It's part _doing_ it better than the next guy and _wanting_ it more than the next guy.\",\n",
       "   'score': 1},\n",
       "  {'text': 'For me school is a way to be connected to what is going on in the \"real world\". I entered school thinking it is EITHER school or entrepreneurship. But in last year my views have changed. I really think there is a middle path where you do JUST enough to stay in school all the while trying out new ventures. (May be the Steve Jobs route?)School is an awesome platform to launch your site off and get quick feedback - ESPECIALLY if your venture fits in with the social networking ecosystem.',\n",
       "   'score': 2},\n",
       "  {'text': \"I guess it really depends on how hungry you are and how much you believe in your product. I'm only 24 and still in school as of the moment, yet I'm more than willing to leave school in order to initiate my start up. Come to think of it, I'm willing to travel half the world just to get advice and connections from YC. \",\n",
       "   'score': 3},\n",
       "  {'text': 'I know pollground decided to go back to school after getting y combinator funding',\n",
       "   'score': 4}]}"
      ]
     },
     "execution_count": 8,
     "metadata": {},
     "output_type": "execute_result"
    }
   ],
   "source": [
    "text[0]"
   ]
  },
  {
   "cell_type": "code",
   "execution_count": 9,
   "id": "a6056722-1bc6-42a1-9fa2-9d849fc5b0e2",
   "metadata": {
    "tags": []
   },
   "outputs": [
    {
     "name": "stdout",
     "output_type": "stream",
     "text": [
      "Пример вызова тела комментариев: [{'text': 'Going back to school is not identical with giving up. Some founders go back to school and keep working on the startup while there.  However, those do so much worse than the people who work on the startup full-time that going back to school seems, in practice, not too far removed from a death sentence for a startup.Off the top of my head, I\\'d guess we\\'ve had about 8 startups where the founders went back to school.  It doesn\\'t only happen with summer batches.  Founders from winter batches do it too.Usually the reason is that the startup isn\\'t doing very well. However, that judgement depends a lot on how determined the founders are.  One reason we now shy away from funding people still in school is that they often unconsciously want the startup to fail, because the idea of dropping out frightens them.A lot of startups look bad after 3 months.  Someone who\\'s out of school and has to make it work or get a job in a cubicle will say \"don\\'t worry, we\\'ll figure out how to make it successful.\"', 'score': 0}, {'text': \"There will invariably be those who don't see the success they set out for, and they fall back to their original path. That's why a founder's commitment is so critical. When your one plan is to become a startup founder, regardless of school or any other factors, you will do your damndest to make something of value and succeed. It's part _doing_ it better than the next guy and _wanting_ it more than the next guy.\", 'score': 1}, {'text': 'For me school is a way to be connected to what is going on in the \"real world\". I entered school thinking it is EITHER school or entrepreneurship. But in last year my views have changed. I really think there is a middle path where you do JUST enough to stay in school all the while trying out new ventures. (May be the Steve Jobs route?)School is an awesome platform to launch your site off and get quick feedback - ESPECIALLY if your venture fits in with the social networking ecosystem.', 'score': 2}, {'text': \"I guess it really depends on how hungry you are and how much you believe in your product. I'm only 24 and still in school as of the moment, yet I'm more than willing to leave school in order to initiate my start up. Come to think of it, I'm willing to travel half the world just to get advice and connections from YC. \", 'score': 3}, {'text': 'I know pollground decided to go back to school after getting y combinator funding', 'score': 4}]\n"
     ]
    }
   ],
   "source": [
    "print('Пример вызова тела комментариев: {}'.format(text[0]['comments']) )"
   ]
  },
  {
   "cell_type": "code",
   "execution_count": 14,
   "id": "dbfca130-51b9-4baa-8b4d-4bf142ca3037",
   "metadata": {
    "tags": []
   },
   "outputs": [],
   "source": [
    "pd_data = pd.DataFrame(columns = ['post', 'comment', 'score'])\n",
    "i=0\n",
    "batch_size = 32\n",
    "def bach_generator(batch_size, text):\n",
    "    i=0\n",
    "    batch_idx = np.random.random_integers(0, len(text), batch_size)\n",
    "    \n",
    "    data = np.array(text)[[batch_idx]][0]\n",
    "    \n",
    "    for body in data:\n",
    "        for comment in body['comments']:\n",
    "            pd_data.loc[i] = [body['text'].lower(), comment['text'].lower(), comment['score']]\n",
    "            i+=1\n",
    "    return pd_data\n",
    "\n",
    "    "
   ]
  },
  {
   "cell_type": "code",
   "execution_count": 15,
   "id": "4a15728b-4532-480e-b714-353a37deddd7",
   "metadata": {
    "tags": []
   },
   "outputs": [
    {
     "name": "stderr",
     "output_type": "stream",
     "text": [
      "C:\\Users\\User\\AppData\\Local\\Temp\\ipykernel_18212\\1099541067.py:6: DeprecationWarning: This function is deprecated. Please call randint(0, 88107 + 1) instead\n",
      "  batch_idx = np.random.random_integers(0, len(text), batch_size)\n"
     ]
    },
    {
     "data": {
      "text/html": [
       "<div>\n",
       "<style scoped>\n",
       "    .dataframe tbody tr th:only-of-type {\n",
       "        vertical-align: middle;\n",
       "    }\n",
       "\n",
       "    .dataframe tbody tr th {\n",
       "        vertical-align: top;\n",
       "    }\n",
       "\n",
       "    .dataframe thead th {\n",
       "        text-align: right;\n",
       "    }\n",
       "</style>\n",
       "<table border=\"1\" class=\"dataframe\">\n",
       "  <thead>\n",
       "    <tr style=\"text-align: right;\">\n",
       "      <th></th>\n",
       "      <th>post</th>\n",
       "      <th>comment</th>\n",
       "      <th>score</th>\n",
       "    </tr>\n",
       "  </thead>\n",
       "  <tbody>\n",
       "    <tr>\n",
       "      <th>0</th>\n",
       "      <td>libv8 + libfastcgi = server-side javascript</td>\n",
       "      <td>w00t serverside javascript again.  i remember ...</td>\n",
       "      <td>0</td>\n",
       "    </tr>\n",
       "    <tr>\n",
       "      <th>1</th>\n",
       "      <td>libv8 + libfastcgi = server-side javascript</td>\n",
       "      <td>aptana jaxer (http://www.aptana.com/jaxer) is ...</td>\n",
       "      <td>1</td>\n",
       "    </tr>\n",
       "    <tr>\n",
       "      <th>2</th>\n",
       "      <td>libv8 + libfastcgi = server-side javascript</td>\n",
       "      <td>i've been doing that with rhino and jetty for ...</td>\n",
       "      <td>2</td>\n",
       "    </tr>\n",
       "    <tr>\n",
       "      <th>3</th>\n",
       "      <td>libv8 + libfastcgi = server-side javascript</td>\n",
       "      <td>server side javascript isn't completely new id...</td>\n",
       "      <td>3</td>\n",
       "    </tr>\n",
       "    <tr>\n",
       "      <th>4</th>\n",
       "      <td>libv8 + libfastcgi = server-side javascript</td>\n",
       "      <td>since someone is going to say this sooner or l...</td>\n",
       "      <td>4</td>\n",
       "    </tr>\n",
       "    <tr>\n",
       "      <th>...</th>\n",
       "      <td>...</td>\n",
       "      <td>...</td>\n",
       "      <td>...</td>\n",
       "    </tr>\n",
       "    <tr>\n",
       "      <th>155</th>\n",
       "      <td>what do conductors do?</td>\n",
       "      <td>(i was expecting an article about electricity....</td>\n",
       "      <td>0</td>\n",
       "    </tr>\n",
       "    <tr>\n",
       "      <th>156</th>\n",
       "      <td>what do conductors do?</td>\n",
       "      <td>i played in orchestras from 6 to about 23, fro...</td>\n",
       "      <td>1</td>\n",
       "    </tr>\n",
       "    <tr>\n",
       "      <th>157</th>\n",
       "      <td>what do conductors do?</td>\n",
       "      <td>you can think of the orchestra as a meta-instr...</td>\n",
       "      <td>2</td>\n",
       "    </tr>\n",
       "    <tr>\n",
       "      <th>158</th>\n",
       "      <td>what do conductors do?</td>\n",
       "      <td>well, in a metal, it has to do with free elect...</td>\n",
       "      <td>3</td>\n",
       "    </tr>\n",
       "    <tr>\n",
       "      <th>159</th>\n",
       "      <td>what do conductors do?</td>\n",
       "      <td>the drum major of stanford&amp;#x27;s band is pret...</td>\n",
       "      <td>4</td>\n",
       "    </tr>\n",
       "  </tbody>\n",
       "</table>\n",
       "<p>160 rows × 3 columns</p>\n",
       "</div>"
      ],
      "text/plain": [
       "                                            post   \n",
       "0    libv8 + libfastcgi = server-side javascript  \\\n",
       "1    libv8 + libfastcgi = server-side javascript   \n",
       "2    libv8 + libfastcgi = server-side javascript   \n",
       "3    libv8 + libfastcgi = server-side javascript   \n",
       "4    libv8 + libfastcgi = server-side javascript   \n",
       "..                                           ...   \n",
       "155                       what do conductors do?   \n",
       "156                       what do conductors do?   \n",
       "157                       what do conductors do?   \n",
       "158                       what do conductors do?   \n",
       "159                       what do conductors do?   \n",
       "\n",
       "                                               comment  score  \n",
       "0    w00t serverside javascript again.  i remember ...      0  \n",
       "1    aptana jaxer (http://www.aptana.com/jaxer) is ...      1  \n",
       "2    i've been doing that with rhino and jetty for ...      2  \n",
       "3    server side javascript isn't completely new id...      3  \n",
       "4    since someone is going to say this sooner or l...      4  \n",
       "..                                                 ...    ...  \n",
       "155  (i was expecting an article about electricity....      0  \n",
       "156  i played in orchestras from 6 to about 23, fro...      1  \n",
       "157  you can think of the orchestra as a meta-instr...      2  \n",
       "158  well, in a metal, it has to do with free elect...      3  \n",
       "159  the drum major of stanford&#x27;s band is pret...      4  \n",
       "\n",
       "[160 rows x 3 columns]"
      ]
     },
     "execution_count": 15,
     "metadata": {},
     "output_type": "execute_result"
    }
   ],
   "source": [
    "bach_generator(batch_size, text)"
   ]
  },
  {
   "cell_type": "code",
   "execution_count": 251,
   "id": "6f1585d2-936a-4c0e-8552-e06a113a7b27",
   "metadata": {
    "tags": []
   },
   "outputs": [
    {
     "data": {
      "text/plain": [
       "'Перегонка датафрейма в CSV. Этот файл уже висит в репо'"
      ]
     },
     "execution_count": 251,
     "metadata": {},
     "output_type": "execute_result"
    }
   ],
   "source": [
    "'''Перегонка датафрейма в CSV. Этот файл уже висит в репо'''\n",
    "# pd_data.to_csv (r'my_data.csv', index= False )"
   ]
  },
  {
   "cell_type": "markdown",
   "id": "d6307d66-4b7a-4092-b54b-b5d933b7cdc9",
   "metadata": {},
   "source": [
    "# Preprocessing"
   ]
  },
  {
   "cell_type": "code",
   "execution_count": 13,
   "id": "80ebdaf0",
   "metadata": {},
   "outputs": [
    {
     "name": "stdout",
     "output_type": "stream",
     "text": [
      "Defaulting to user installation because normal site-packages is not writeable\n",
      "Collecting nltk\n",
      "  Using cached nltk-3.8.1-py3-none-any.whl (1.5 MB)\n",
      "Collecting regex>=2021.8.3\n",
      "  Downloading regex-2023.6.3-cp310-cp310-manylinux_2_17_x86_64.manylinux2014_x86_64.whl (770 kB)\n",
      "\u001b[2K     \u001b[38;2;114;156;31m━━━━━━━━━━━━━━━━━━━━━━━━━━━━━━━━━━━━━━━\u001b[0m \u001b[32m770.4/770.4 KB\u001b[0m \u001b[31m7.1 MB/s\u001b[0m eta \u001b[36m0:00:00\u001b[0m[31m4.9 MB/s\u001b[0m eta \u001b[36m0:00:01\u001b[0m\n",
      "\u001b[?25hRequirement already satisfied: tqdm in /home/klim/.local/lib/python3.10/site-packages (from nltk) (4.65.0)\n",
      "Requirement already satisfied: click in /usr/lib/python3/dist-packages (from nltk) (8.0.3)\n",
      "Requirement already satisfied: joblib in /home/klim/.local/lib/python3.10/site-packages (from nltk) (1.2.0)\n",
      "Installing collected packages: regex, nltk\n",
      "Successfully installed nltk-3.8.1 regex-2023.6.3\n"
     ]
    }
   ],
   "source": [
    "!pip3 install nltk"
   ]
  },
  {
   "cell_type": "code",
   "execution_count": 4,
   "id": "c467ea5d-cac0-4933-9757-5a4ef4d7f88f",
   "metadata": {
    "tags": []
   },
   "outputs": [
    {
     "name": "stderr",
     "output_type": "stream",
     "text": [
      "[nltk_data] Downloading package stopwords to\n",
      "[nltk_data]     C:\\Users\\User\\AppData\\Roaming\\nltk_data...\n",
      "[nltk_data]   Package stopwords is already up-to-date!\n",
      "[nltk_data] Downloading package punkt to\n",
      "[nltk_data]     C:\\Users\\User\\AppData\\Roaming\\nltk_data...\n",
      "[nltk_data]   Package punkt is already up-to-date!\n"
     ]
    }
   ],
   "source": [
    "import string\n",
    "from nltk.tokenize import word_tokenize\n",
    "from nltk.stem import PorterStemmer\n",
    "import nltk\n",
    "from nltk.corpus import stopwords\n",
    "nltk.download('stopwords')\n",
    "nltk.download('punkt')\n",
    "from functools import reduce"
   ]
  },
  {
   "cell_type": "code",
   "execution_count": 131,
   "id": "8a1f1823-7580-4a87-a863-e53bf92b3c5c",
   "metadata": {
    "tags": []
   },
   "outputs": [
    {
     "name": "stderr",
     "output_type": "stream",
     "text": [
      "C:\\Users\\User\\AppData\\Local\\Temp\\ipykernel_18212\\3838342741.py:10: DeprecationWarning: This function is deprecated. Please call randint(0, 88107 + 1) instead\n",
      "  batch_idx = np.random.random_integers(0, len(text), batch_size)\n"
     ]
    },
    {
     "data": {
      "text/plain": [
       "(1000, 3)"
      ]
     },
     "execution_count": 131,
     "metadata": {},
     "output_type": "execute_result"
    }
   ],
   "source": [
    "stop_w =stopwords.words(\"english\")\n",
    "ps = PorterStemmer()\n",
    "pd_data_sent = pd.DataFrame(columns = ['post', 'comment', 'score'])\n",
    "dictionary = []\n",
    "i=0\n",
    "batch_size = 200\n",
    "\n",
    "def batch_generator(batch_size, text):\n",
    "    i=0\n",
    "    batch_idx = np.random.random_integers(0, len(text), batch_size)\n",
    "    \n",
    "    data = np.array(text)[[batch_idx]][0]\n",
    "    \n",
    "    for body in data:\n",
    "        for comment in body['comments']:\n",
    "            post_text = body['text'].translate(str.maketrans(\"\", \"\", string.punctuation))\n",
    "            post_tokens = word_tokenize(post_text)\n",
    "            \n",
    "            comment_text = comment['text'].translate(str.maketrans(\"\", \"\", string.punctuation))\n",
    "            comment_tokens = word_tokenize(comment_text)\n",
    "            \n",
    "            \n",
    "            stemmed_post = [ps.stem(x) if x not in stop_w else '' for x in post_tokens ]\n",
    "            stemmed_coment = [ps.stem(x) if x not in stop_w else '' for x in comment_tokens ]\n",
    "            \n",
    "            pd_data_sent.loc[i] = [' '.join(stemmed_post), ' '.join(stemmed_coment), comment['score']]\n",
    "            i+=1\n",
    "            \n",
    "    return pd_data_sent\n",
    "\n",
    "batch_data = batch_generator(batch_size, text)\n",
    "batch_data.shape"
   ]
  },
  {
   "cell_type": "code",
   "execution_count": 132,
   "id": "c87c92d6-397a-44de-a96c-f12f5cae86a2",
   "metadata": {
    "tags": []
   },
   "outputs": [],
   "source": [
    "train_target = batch_data['score']\n",
    "train_data =batch_data['post']+batch_data['comment']"
   ]
  },
  {
   "cell_type": "code",
   "execution_count": 133,
   "id": "5fdce7df",
   "metadata": {
    "tags": []
   },
   "outputs": [],
   "source": [
    "from sklearn.feature_extraction.text import TfidfTransformer, TfidfVectorizer\n",
    "\n",
    "tfidf = TfidfVectorizer(sublinear_tf=True, min_df=5, norm='l2', encoding='latin-1', ngram_range=(1, 2), stop_words='english')\n",
    "\n",
    "features = tfidf.fit_transform(train_data).toarray()\n",
    "labels = train_target"
   ]
  },
  {
   "cell_type": "code",
   "execution_count": null,
   "id": "df6df0a7-b3a1-4c8a-8822-e75bad7d5f1c",
   "metadata": {
    "tags": []
   },
   "outputs": [],
   "source": []
  },
  {
   "cell_type": "code",
   "execution_count": 134,
   "id": "359f0a2d-a724-47fd-9e5b-5fcd983460e2",
   "metadata": {
    "tags": []
   },
   "outputs": [],
   "source": [
    "from sklearn.linear_model import LogisticRegression\n",
    "from sklearn.ensemble import RandomForestClassifier\n",
    "from sklearn.neighbors import KNeighborsClassifier\n",
    "from sklearn.naive_bayes import MultinomialNB\n",
    "from sklearn.svm import LinearSVC\n",
    "from sklearn.ensemble import GradientBoostingClassifier\n",
    "from sklearn.model_selection import cross_val_score\n",
    "\n",
    "models = [\n",
    "    RandomForestClassifier(n_estimators=200, max_depth=10),\n",
    "    LinearSVC(),\n",
    "    MultinomialNB(),\n",
    "    LogisticRegression(),\n",
    "    GradientBoostingClassifier(),\n",
    "    KNeighborsClassifier()\n",
    "]\n",
    "CV = 5\n",
    "cv_df = pd.DataFrame(index=range(CV * len(models)))\n",
    "entries = []\n",
    "for model in models:\n",
    "    model_name = model.__class__.__name__\n",
    "    accuracies = cross_val_score(model, features, labels, scoring='accuracy', cv=CV)\n",
    "    for fold_idx, accuracy in enumerate(accuracies):\n",
    "        entries.append((model_name, fold_idx, accuracy))\n",
    "cv_df = pd.DataFrame(entries, columns=['model_name', 'fold_idx', 'accuracy'])"
   ]
  },
  {
   "cell_type": "code",
   "execution_count": 135,
   "id": "c5de17eb",
   "metadata": {
    "tags": []
   },
   "outputs": [
    {
     "data": {
      "image/png": "[encoded data removed]",
      "text/plain": [
       "<Figure size 1400x600 with 1 Axes>"
      ]
     },
     "metadata": {},
     "output_type": "display_data"
    }
   ],
   "source": [
    "import matplotlib.pyplot as plt\n",
    "import seaborn as sns\n",
    "\n",
    "fig = plt.figure(figsize=(14,6))\n",
    "sns.boxplot(x='model_name', y='accuracy', data=cv_df)\n",
    "plt.show()"
   ]
  },
  {
   "cell_type": "code",
   "execution_count": null,
   "id": "74e49803-b24c-489d-8cca-1ee60a3f33bb",
   "metadata": {},
   "outputs": [],
   "source": []
  }
 ],
 "metadata": {
  "kernelspec": {
   "display_name": "Python 3 (ipykernel)",
   "language": "python",
   "name": "python3"
  },
  "language_info": {
   "codemirror_mode": {
    "name": "ipython",
    "version": 3
   },
   "file_extension": ".py",
   "mimetype": "text/x-python",
   "name": "python",
   "nbconvert_exporter": "python",
   "pygments_lexer": "ipython3",
   "version": "3.11.2"
  }
 },
 "nbformat": 4,
 "nbformat_minor": 5
}
